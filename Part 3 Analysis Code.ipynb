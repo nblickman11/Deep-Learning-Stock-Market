{
 "cells": [
  {
   "cell_type": "code",
   "execution_count": 196,
   "metadata": {},
   "outputs": [],
   "source": [
    "## import libraries\n",
    "\n",
    "import os\n",
    "import math\n",
    "import torch\n",
    "import itertools\n",
    "import numpy as np\n",
    "import pandas as pd\n",
    "import torch.nn as nn\n",
    "from torch import optim\n",
    "import plotly.graph_objects as go\n",
    "from matplotlib import pyplot as plt"
   ]
  },
  {
   "cell_type": "code",
   "execution_count": 197,
   "metadata": {},
   "outputs": [],
   "source": [
    "# Functions\n",
    "\n",
    "def clean(row, frame):\n",
    "    if row.name != 0:\n",
    "        \n",
    "        Today_Open = frame[\"Open\"][row.name]\n",
    "        Yest_High = frame[\"High\"][row.name-1]\n",
    "        Yest_Low = frame[\"Low\"][row.name-1]\n",
    "        Yest_Close = frame[\"Close\"][row.name-1]\n",
    "        Yest_Volume = frame[\"Volume\"][row.name-1]\n",
    "        \n",
    "        Yest_Open = frame[\"Open\"][row.name-1]\n",
    "        Today_Close = frame[\"Close\"][row.name]\n",
    "        \n",
    "        if Yest_Close - Yest_Open >= 0:\n",
    "            Yest_Price_Change = 1\n",
    "        else:\n",
    "            Yest_Price_Change = 0\n",
    "            \n",
    "        if Today_Close - Today_Open >= 0:\n",
    "            Today_Price_Change = 1\n",
    "        else:\n",
    "            Today_Price_Change = 0\n",
    "                      \n",
    "        return Today_Open, Yest_High, Yest_Low, Yest_Close, Yest_Volume, Yest_Price_Change, Today_Price_Change\n",
    "  \n",
    "def s_ized(col):\n",
    "    if col.name == \"Price_Change_Yest\" or col.name == \"Price_Change_Today\":\n",
    "        new = col\n",
    "    else:\n",
    "       mean = np.mean(col)\n",
    "       std = np.std(col)\n",
    "       new = np.nan_to_num((col - mean) / std)\n",
    "\n",
    "    return new\n",
    "\n",
    "\n",
    "def loss_f(y_pred, y):\n",
    "    return sum(y*(y_pred**.5) + ((1-y) * (1-y_pred)**.5)) / len(y_pred)"
   ]
  },
  {
   "cell_type": "code",
   "execution_count": 198,
   "metadata": {},
   "outputs": [],
   "source": [
    "all_Js = []\n",
    "accuracys = []\n",
    "\n",
    "for loop in range(25,76,25):\n",
    "    # weights\n",
    "    weights_1 = np.random.uniform(low=-0.0001, high=.0001, size=(6,3))\n",
    "    weights_2 = np.random.uniform(low=-0.0001, high=.0001, size=(6,3))\n",
    "\n",
    "    split_ratio = .70\n",
    "    l_rate = .0001\n",
    "\n",
    "    # Load and Clean the Data\n",
    "    arr = os.listdir('sample set')\n",
    "    all_data = pd.DataFrame() \n",
    "    #o=1\n",
    "    for file in arr[:loop]:\n",
    "        #print(o)\n",
    "        #o += 1\n",
    "        file2 = open(\"sample set/\" + file)\n",
    "        data = pd.read_csv(file2)\n",
    "        new_df = data.apply(clean, axis=1, frame = data, result_type = \"broadcast\")\n",
    "        new_df2 = new_df.drop([0])\n",
    "        all_data = all_data.append(new_df2)\n",
    "\n",
    "    all_data = all_data.rename(columns={'Date': 'Open', 'Open': 'High', 'High':'Low', 'Low':'Close','Close':'Volume','Volume':'Price_Change_Yest', 'OpenInt':'Price_Change_Today'})\n",
    "    all_data = all_data.apply(s_ized, axis=0)\n",
    "\n",
    "    # more cleaning\n",
    "    array = all_data.values\n",
    "    Xs= array[:,:6]\n",
    "    Y = array[:,6]\n",
    "\n",
    "    Xs = Xs.tolist()\n",
    "    Y = Y.tolist()\n",
    "\n",
    "    Xs = torch.tensor(Xs)\n",
    "    y = torch.tensor(Y)\n",
    "\n",
    "    y = y.reshape(Xs.shape[0],1)\n",
    "\n",
    "    # Split Data\n",
    "    train_num = int(Xs.shape[0] * split_ratio)\n",
    "    train_Xs = Xs[:train_num]\n",
    "    test_Xs = Xs[train_num:]\n",
    "    train_y = y[:train_num]\n",
    "    test_y = y[train_num:]\n",
    "\n",
    "    # weights\n",
    "    weights_1 = np.random.uniform(low=-1, high=1, size=(6,3))\n",
    "    weights_2 = np.random.uniform(low=-1, high=1, size=(6,3))\n",
    "    weights_3 = np.random.uniform(low=-1, high=1, size=(6,1))\n",
    "\n",
    "\n",
    "# Auto Encode Trainer\n",
    "    Js = []\n",
    "    for i in range(30):\n",
    "        # Encode\n",
    "        # rowsx6 * 6x3\n",
    "        output1 = train_Xs @ weights_1\n",
    "\n",
    "        # Decode\n",
    "        # rowsx3 * 3x6\n",
    "        output2 = output1 @ weights_2.T\n",
    "\n",
    "        # FC\n",
    "        # rowsx6 * 6*1\n",
    "        output3 = output2 @ weights_3\n",
    "\n",
    "        # Logistic Activation \n",
    "        y_preds = 1 / (1 + math.e**(-output3))\n",
    "\n",
    "\n",
    "        #Gradient of FC\n",
    "        grad1 = (((train_y - y_preds)) * ((1 - y_preds) * y_preds)).T @ output2\n",
    "        grad1 = grad1.T\n",
    "        weights_3 = weights_3 - np.array(l_rate*(grad1))\n",
    "\n",
    "        # Gradient of Decode \n",
    "        grad2 = (((train_y - y_preds) * ((1 - y_preds) * y_preds)) @ weights_3.T).T @ output1\n",
    "        weights_2 = weights_2 - np.array(l_rate*(grad2))\n",
    "\n",
    "        # Gradient of Encode\n",
    "        grad3 = ((((train_y - y_preds) * ((1 - y_preds) * y_preds)) @ weights_3.T) @ weights_2).T @ train_Xs\n",
    "        grad3 = grad3.T\n",
    "        weights_1 = weights_1 - np.array(l_rate*(grad3))\n",
    "\n",
    "\n",
    "        # Objective Func Loss\n",
    "        loss = loss_f(y_preds, train_y)\n",
    "        t_loss = sum(loss).item()\n",
    "        Js.append(t_loss)\n",
    "    \n",
    "# Test Accuracy\n",
    "\n",
    "    # Encode\n",
    "    # rowsx6 * 6x3\n",
    "    output1 = test_Xs @ weights_1\n",
    "\n",
    "    # Decode\n",
    "    # rowsx3 * 3x6\n",
    "    output2 = output1 @ weights_2.T\n",
    "\n",
    "    # FC\n",
    "    # rowsx6 * 6*1\n",
    "    output3 = output2 @ weights_3\n",
    "\n",
    "    # Logistic Activation \n",
    "    y_preds = 1 / (1 + math.e**(-output3))\n",
    "\n",
    "    predictions = np.where(y_preds > .5, 1, 0)\n",
    "    accuracy = list(predictions-np.array(test_y)).count(0) / len(predictions-np.array(test_y)) \n",
    "    \n",
    "\n",
    "    all_Js.append(Js)\n",
    "    accuracys.append(accuracy)"
   ]
  },
  {
   "cell_type": "code",
   "execution_count": null,
   "metadata": {},
   "outputs": [],
   "source": []
  },
  {
   "cell_type": "code",
   "execution_count": 199,
   "metadata": {},
   "outputs": [
    {
     "name": "stdout",
     "output_type": "stream",
     "text": [
      "0.4788298012953254\n"
     ]
    },
    {
     "data": {
      "image/png": "[encoded data removed]",
      "text/plain": [
       "<Figure size 360x360 with 1 Axes>"
      ]
     },
     "metadata": {
      "needs_background": "light"
     },
     "output_type": "display_data"
    }
   ],
   "source": [
    "print(accuracy)\n",
    "fig = plt.figure(figsize=(5,5))\n",
    "graph = plt.plot(range(0,30), all_Js[0])"
   ]
  },
  {
   "cell_type": "code",
   "execution_count": 200,
   "metadata": {},
   "outputs": [
    {
     "name": "stdout",
     "output_type": "stream",
     "text": [
      "0.4788298012953254\n"
     ]
    },
    {
     "data": {
      "image/png": "[encoded data removed]",
      "text/plain": [
       "<Figure size 360x360 with 1 Axes>"
      ]
     },
     "metadata": {
      "needs_background": "light"
     },
     "output_type": "display_data"
    }
   ],
   "source": [
    "print(accuracy)\n",
    "fig = plt.figure(figsize=(5,5))\n",
    "graph = plt.plot(range(0,30), all_Js[1])"
   ]
  },
  {
   "cell_type": "code",
   "execution_count": 201,
   "metadata": {},
   "outputs": [
    {
     "name": "stdout",
     "output_type": "stream",
     "text": [
      "0.4788298012953254\n"
     ]
    },
    {
     "data": {
      "image/png": "[encoded data removed]",
      "text/plain": [
       "<Figure size 360x360 with 1 Axes>"
      ]
     },
     "metadata": {
      "needs_background": "light"
     },
     "output_type": "display_data"
    }
   ],
   "source": [
    "print(accuracy)\n",
    "fig = plt.figure(figsize=(5,5))\n",
    "graph = plt.plot(range(0,30), all_Js[2])"
   ]
  },
  {
   "cell_type": "code",
   "execution_count": null,
   "metadata": {},
   "outputs": [],
   "source": []
  },
  {
   "cell_type": "code",
   "execution_count": null,
   "metadata": {},
   "outputs": [],
   "source": []
  }
 ],
 "metadata": {
  "kernelspec": {
   "display_name": "Python 3",
   "language": "python",
   "name": "python3"
  },
  "language_info": {
   "codemirror_mode": {
    "name": "ipython",
    "version": 3
   },
   "file_extension": ".py",
   "mimetype": "text/x-python",
   "name": "python",
   "nbconvert_exporter": "python",
   "pygments_lexer": "ipython3",
   "version": "3.7.4"
  }
 },
 "nbformat": 4,
 "nbformat_minor": 2
}
