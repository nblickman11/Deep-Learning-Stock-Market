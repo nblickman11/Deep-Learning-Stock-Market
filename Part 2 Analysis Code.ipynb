{
 "cells": [
  {
   "cell_type": "code",
   "execution_count": 126,
   "metadata": {},
   "outputs": [],
   "source": [
    "# import libraries\n",
    "\n",
    "import os\n",
    "import torch\n",
    "import itertools\n",
    "import numpy as np\n",
    "import pandas as pd\n",
    "import torch.nn as nn\n",
    "from torch import optim\n",
    "import plotly.graph_objects as go\n",
    "from matplotlib import pyplot as plt"
   ]
  },
  {
   "cell_type": "code",
   "execution_count": 127,
   "metadata": {},
   "outputs": [],
   "source": [
    "# Functions\n",
    "\n",
    "def clean(row, frame):\n",
    "    if row.name != 0:\n",
    "        \n",
    "        Today_Open = frame[\"Open\"][row.name]\n",
    "        Yest_High = frame[\"High\"][row.name-1]\n",
    "        Yest_Low = frame[\"Low\"][row.name-1]\n",
    "        Yest_Close = frame[\"Close\"][row.name-1]\n",
    "        Yest_Volume = frame[\"Volume\"][row.name-1]\n",
    "        \n",
    "        Yest_Open = frame[\"Open\"][row.name-1]\n",
    "        Today_Close = frame[\"Close\"][row.name]\n",
    "        \n",
    "        if Yest_Close - Yest_Open >= 0:\n",
    "            Yest_Price_Change = 1\n",
    "        else:\n",
    "            Yest_Price_Change = 0\n",
    "            \n",
    "        if Today_Close - Today_Open >= 0:\n",
    "            Today_Price_Change = 1\n",
    "        else:\n",
    "            Today_Price_Change = 0\n",
    "                      \n",
    "        return Today_Open, Yest_High, Yest_Low, Yest_Close, Yest_Volume, Yest_Price_Change, Today_Price_Change\n",
    "  \n",
    "def s_ized(col):\n",
    "    if col.name == \"Price_Change_Yest\" or col.name == \"Price_Change_Today\":\n",
    "        new = col\n",
    "    else:\n",
    "       mean = np.mean(col)\n",
    "       std = np.std(col)\n",
    "       new = np.nan_to_num((col - mean) / std)\n",
    "\n",
    "    return new\n",
    "\n",
    "\n",
    "def loss_f(y_pred, y):\n",
    "    return sum(y*(y_pred**.5) + ((1-y) * (1-y_pred)**.5)) / len(y_pred)"
   ]
  },
  {
   "cell_type": "code",
   "execution_count": 133,
   "metadata": {},
   "outputs": [
    {
     "name": "stdout",
     "output_type": "stream",
     "text": [
      "torch.Size([11, 6])\n",
      "torch.Size([11, 6])\n",
      "torch.Size([11, 6])\n",
      "torch.Size([2251, 6])\n",
      "torch.Size([2251, 6])\n",
      "torch.Size([2251, 6])\n",
      "torch.Size([2579, 6])\n",
      "torch.Size([2579, 6])\n",
      "torch.Size([2579, 6])\n"
     ]
    }
   ],
   "source": [
    "accuracys = []\n",
    "images = []\n",
    "\n",
    "for ct in range(3):\n",
    "    for i in range(3):\n",
    "        #Inputs\n",
    "        number_of_companies = (ct+1)\n",
    "        split_ratio = .70\n",
    "        l_rate = .001\n",
    "\n",
    "        nodes_layer_1 = 4\n",
    "        nodes_layer_2 = 12\n",
    "        nodes_layer_3 = 12\n",
    "        nodes_layer_4 = 12\n",
    "        nodes_layer_5 = 12\n",
    "\n",
    "        # Load and Clean the Data\n",
    "        arr = os.listdir('sample set')\n",
    "        all_data = pd.DataFrame() \n",
    "        for file in arr[:number_of_companies]:\n",
    "            file2 = open(\"sample set/\" + file)\n",
    "            data = pd.read_csv(file2)\n",
    "            new_df = data.apply(clean, axis=1, frame = data, result_type = \"broadcast\")\n",
    "            new_df2 = new_df.drop([0])\n",
    "            all_data = all_data.append(new_df2)\n",
    "\n",
    "        all_data = all_data.rename(columns={'Date': 'Open', 'Open': 'High', 'High':'Low', 'Low':'Close','Close':'Volume','Volume':'Price_Change_Yest', 'OpenInt':'Price_Change_Today'})\n",
    "        all_data = all_data.apply(s_ized, axis=0)\n",
    "\n",
    "        # more cleaning\n",
    "        array = all_data.values\n",
    "        Xs= array[:,:6]\n",
    "        Y = array[:,6]\n",
    "\n",
    "        Xs = Xs.tolist()\n",
    "        Y = Y.tolist()\n",
    "\n",
    "        Xs = torch.tensor(Xs)\n",
    "        y = torch.tensor(Y)\n",
    "\n",
    "        y = y.reshape(Xs.shape[0],1)\n",
    "\n",
    "        # Split Data\n",
    "        train_num = int(Xs.shape[0] * split_ratio)\n",
    "        train_Xs = Xs[:train_num]\n",
    "        test_Xs = Xs[train_num:]\n",
    "        train_y = y[:train_num]\n",
    "        test_y = y[train_num:]\n",
    "\n",
    "        print(train_Xs.shape)\n",
    "\n",
    "        # MLP Model Initialization\n",
    "\n",
    "\n",
    "        # 3 Fully Connected and Sigmoid Network\n",
    "        if i==0:\n",
    "            model = torch.nn.Sequential(nn.Linear(6, nodes_layer_1),\n",
    "                                        nn.Linear(nodes_layer_1, nodes_layer_2),\n",
    "                                        nn.Linear(nodes_layer_2, 1),\n",
    "                                        nn.Sigmoid())\n",
    "\n",
    "            optimizer = torch.optim.Adam(model.parameters(), lr=l_rate)\n",
    "\n",
    "        # 3 Fully Connected, 2 Relu's, and Sigmoid Network\n",
    "        elif i==1: \n",
    "            model = torch.nn.Sequential(nn.Linear(6, nodes_layer_1),\n",
    "                                        nn.ReLU(),\n",
    "                                        nn.Linear(nodes_layer_1, nodes_layer_2),\n",
    "                                        nn.ReLU(),\n",
    "                                        nn.Linear(nodes_layer_2, 1),\n",
    "                                        nn.Sigmoid())\n",
    "            optimizer = torch.optim.Adam(model.parameters(), lr=l_rate)\n",
    "\n",
    "        elif i ==2:\n",
    "            model = torch.nn.Sequential(nn.Linear(6, nodes_layer_1),\n",
    "                                        nn.ReLU(),\n",
    "                                        nn.Linear(nodes_layer_1, nodes_layer_2),\n",
    "                                        nn.ReLU(),\n",
    "                                        nn.Linear(nodes_layer_2, nodes_layer_3),\n",
    "                                        nn.ReLU(),\n",
    "                                        nn.Linear(nodes_layer_3, nodes_layer_4),\n",
    "                                        nn.ReLU(),\n",
    "                                        nn.Linear(nodes_layer_4, nodes_layer_5),\n",
    "                                        nn.ReLU(),\n",
    "                                        nn.Linear(nodes_layer_5, 1),\n",
    "                                        nn.Sigmoid())\n",
    "        optimizer = torch.optim.Adam(model.parameters(), lr=l_rate)\n",
    "\n",
    "\n",
    "        # Train Data\n",
    "        Js = []\n",
    "        epochs = []\n",
    "        for i in range(200):\n",
    "            # Forward\n",
    "            y_predictions = model(train_Xs.float())\n",
    "\n",
    "            # Objective func Loss\n",
    "            loss = loss_f(y_predictions, train_y)\n",
    "\n",
    "            # Calc gradients\n",
    "            optimizer.zero_grad()\n",
    "            loss.backward()\n",
    "\n",
    "            # Update Weights\n",
    "            optimizer.step()\n",
    "            Js.append(loss)\n",
    "            #print(loss)\n",
    "            epochs.append(i)\n",
    "\n",
    "        # Test Accuracy\n",
    "        y_predictions = model(test_Xs.float())\n",
    "        predictions = np.where(y_predictions > .5, 1, 0)\n",
    "        accuracy = list(predictions-np.array(test_y)).count(0) / len(predictions-np.array(test_y))    \n",
    "        accuracys.append(accuracy)\n",
    "        images.append(Js)"
   ]
  },
  {
   "cell_type": "code",
   "execution_count": 129,
   "metadata": {},
   "outputs": [],
   "source": []
  },
  {
   "cell_type": "code",
   "execution_count": 130,
   "metadata": {},
   "outputs": [
    {
     "name": "stdout",
     "output_type": "stream",
     "text": [
      "1 Company\n",
      "Accuracy for 3FCs folowed by Sigmoid 0.2\n",
      "Accuracy for 2 FC_Relu's, followed by 1 FC_Sigmoid 0.6\n",
      "Accuracy for 5 FC_Relu's followed by 1 FC_Sigmoid 0.4\n"
     ]
    },
    {
     "data": {
      "image/png": "[encoded data removed]",
      "text/plain": [
       "<Figure size 144x144 with 1 Axes>"
      ]
     },
     "metadata": {
      "needs_background": "light"
     },
     "output_type": "display_data"
    },
    {
     "data": {
      "image/png": "[encoded data removed]",
      "text/plain": [
       "<Figure size 144x144 with 1 Axes>"
      ]
     },
     "metadata": {
      "needs_background": "light"
     },
     "output_type": "display_data"
    },
    {
     "data": {
      "image/png": "[encoded data removed]",
      "text/plain": [
       "<Figure size 144x144 with 1 Axes>"
      ]
     },
     "metadata": {
      "needs_background": "light"
     },
     "output_type": "display_data"
    }
   ],
   "source": [
    "print(\"1 Company\")\n",
    "\n",
    "print(\"Accuracy for 3FCs folowed by Sigmoid\", accuracys[0])\n",
    "fig = plt.figure(figsize=(2,2))\n",
    "graph = plt.plot(epochs, images[0])\n",
    "\n",
    "print(\"Accuracy for 2 FC_Relu's, followed by 1 FC_Sigmoid\", accuracys[1])\n",
    "fig = plt.figure(figsize=(2,2))\n",
    "graph = plt.plot(epochs, images[1])\n",
    "\n",
    "print(\"Accuracy for 5 FC_Relu's followed by 1 FC_Sigmoid\", accuracys[2])\n",
    "fig = plt.figure(figsize=(2,2))\n",
    "graph = plt.plot(epochs, images[2])"
   ]
  },
  {
   "cell_type": "code",
   "execution_count": 131,
   "metadata": {},
   "outputs": [
    {
     "name": "stdout",
     "output_type": "stream",
     "text": [
      "2 Companys\n",
      "Accuracy for 3FCs folowed by Sigmoid 0.49222797927461137\n",
      "Accuracy for 2 FC_Relu's, followed by 1 FC_Sigmoid 0.49222797927461137\n",
      "Accuracy for 5 FC_Relu's followed by 1 FC_Sigmoid 0.49222797927461137\n"
     ]
    },
    {
     "data": {
      "image/png": "[encoded data removed]",
      "text/plain": [
       "<Figure size 144x144 with 1 Axes>"
      ]
     },
     "metadata": {
      "needs_background": "light"
     },
     "output_type": "display_data"
    },
    {
     "data": {
      "image/png": "[encoded data removed]",
      "text/plain": [
       "<Figure size 144x144 with 1 Axes>"
      ]
     },
     "metadata": {
      "needs_background": "light"
     },
     "output_type": "display_data"
    },
    {
     "data": {
      "image/png": "[encoded data removed]",
      "text/plain": [
       "<Figure size 144x144 with 1 Axes>"
      ]
     },
     "metadata": {
      "needs_background": "light"
     },
     "output_type": "display_data"
    }
   ],
   "source": [
    "print(\"2 Companys\")\n",
    "\n",
    "print(\"Accuracy for 3FCs folowed by Sigmoid\", accuracys[3])\n",
    "fig = plt.figure(figsize=(2,2))\n",
    "graph = plt.plot(epochs, images[3])\n",
    "\n",
    "print(\"Accuracy for 2 FC_Relu's, followed by 1 FC_Sigmoid\", accuracys[4])\n",
    "fig = plt.figure(figsize=(2,2))\n",
    "graph = plt.plot(epochs, images[4])\n",
    "\n",
    "print(\"Accuracy for 5 FC_Relu's followed by 1 FC_Sigmoid\", accuracys[5])\n",
    "fig = plt.figure(figsize=(2,2))\n",
    "graph = plt.plot(epochs, images[5])"
   ]
  },
  {
   "cell_type": "code",
   "execution_count": 132,
   "metadata": {},
   "outputs": [
    {
     "name": "stdout",
     "output_type": "stream",
     "text": [
      "3 Company\n",
      "Accuracy for 3FCs folowed by Sigmoid 0.5244122965641953\n",
      "Accuracy for 2 FC_Relu's, followed by 1 FC_Sigmoid 0.5244122965641953\n",
      "Accuracy for 5 FC_Relu's followed by 1 FC_Sigmoid 0.5244122965641953\n"
     ]
    },
    {
     "data": {
      "image/png": "[encoded data removed]",
      "text/plain": [
       "<Figure size 144x144 with 1 Axes>"
      ]
     },
     "metadata": {
      "needs_background": "light"
     },
     "output_type": "display_data"
    },
    {
     "data": {
      "image/png": "[encoded data removed]",
      "text/plain": [
       "<Figure size 144x144 with 1 Axes>"
      ]
     },
     "metadata": {
      "needs_background": "light"
     },
     "output_type": "display_data"
    },
    {
     "data": {
      "image/png": "[encoded data removed]",
      "text/plain": [
       "<Figure size 144x144 with 1 Axes>"
      ]
     },
     "metadata": {
      "needs_background": "light"
     },
     "output_type": "display_data"
    }
   ],
   "source": [
    "print(\"3 Company\")\n",
    "\n",
    "print(\"Accuracy for 3FCs folowed by Sigmoid\", accuracys[6])\n",
    "fig = plt.figure(figsize=(2,2))\n",
    "graph = plt.plot(epochs, images[6])\n",
    "\n",
    "print(\"Accuracy for 2 FC_Relu's, followed by 1 FC_Sigmoid\", accuracys[7])\n",
    "fig = plt.figure(figsize=(2,2))\n",
    "graph = plt.plot(epochs, images[7])\n",
    "\n",
    "print(\"Accuracy for 5 FC_Relu's followed by 1 FC_Sigmoid\", accuracys[8])\n",
    "fig = plt.figure(figsize=(2,2))\n",
    "graph = plt.plot(epochs, images[8])"
   ]
  },
  {
   "cell_type": "code",
   "execution_count": null,
   "metadata": {},
   "outputs": [],
   "source": []
  },
  {
   "cell_type": "code",
   "execution_count": null,
   "metadata": {},
   "outputs": [],
   "source": []
  },
  {
   "cell_type": "code",
   "execution_count": null,
   "metadata": {},
   "outputs": [],
   "source": []
  }
 ],
 "metadata": {
  "kernelspec": {
   "display_name": "Python 3",
   "language": "python",
   "name": "python3"
  },
  "language_info": {
   "codemirror_mode": {
    "name": "ipython",
    "version": 3
   },
   "file_extension": ".py",
   "mimetype": "text/x-python",
   "name": "python",
   "nbconvert_exporter": "python",
   "pygments_lexer": "ipython3",
   "version": "3.7.4"
  }
 },
 "nbformat": 4,
 "nbformat_minor": 2
}
